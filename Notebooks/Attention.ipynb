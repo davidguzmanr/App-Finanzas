{
 "cells": [
  {
   "cell_type": "code",
   "execution_count": 4,
   "id": "greatest-player",
   "metadata": {},
   "outputs": [],
   "source": [
    "import tensorflow as tf\n",
    "\n",
    "import matplotlib.pyplot as plt\n",
    "import matplotlib.ticker as ticker\n",
    "from sklearn.model_selection import train_test_split\n",
    "\n",
    "import unicodedata\n",
    "import re\n",
    "import os\n",
    "import io\n",
    "\n",
    "import numpy as np\n",
    "import random\n",
    "import math\n",
    "import time\n",
    "import pandas as pd"
   ]
  },
  {
   "cell_type": "code",
   "execution_count": 6,
   "id": "essential-queen",
   "metadata": {},
   "outputs": [],
   "source": [
    "df = pd.read_csv(\"datos_2.csv\")\n",
    "df = df.drop([0,1,2,3,4])\n",
    "df = df.reset_index().drop(['index'], axis = 1)\n",
    "att_dict = {'apo':'absolute_price_oscillator',\n",
    "            'bop':'balance_of_power',\n",
    "            'cci':'cci',\n",
    "            'cmo':'chande_momentum_oscillator',\n",
    "            'ppo':'percentage_price_oscillator',\n",
    "            'macd':'macd',\n",
    "            'wr6':'wr_6',\n",
    "            'rsi6':'rsi_6',\n",
    "            'so':'stochastic_oscillator',\n",
    "            'tema':'tema',\n",
    "            'tr':'tr',\n",
    "            'atr':'atr'}\n",
    "data = df[['volume', 'amount',\n",
    "       'absolute_price_oscillator', 'balance_of_power', 'cci',\n",
    "       'chande_momentum_oscillator', 'percentage_price_oscillator', 'macd',\n",
    "       'wr_6', 'rsi_6', 'stochastic_oscillator', 'tema', 'tr', 'atr']].values\n",
    "\n",
    "closes = df['close'].values"
   ]
  },
  {
   "cell_type": "code",
   "execution_count": 3,
   "id": "satisfactory-canvas",
   "metadata": {},
   "outputs": [],
   "source": [
    "data = (data.max() - data)/(data.max()-data.min())\n",
    "closes = (closes.max() - closes)/(closes.max()-closes.min())"
   ]
  },
  {
   "cell_type": "code",
   "execution_count": 4,
   "id": "breathing-success",
   "metadata": {},
   "outputs": [],
   "source": [
    "T = 10\n",
    "input_list = []\n",
    "output_list = []\n",
    "for i in range(0,data.shape[0]-T):\n",
    "    input_list.append(data[i:i+T])\n",
    "    output_list.append(closes[i+1:i+T+1]) \n",
    "input_tensor = np.array(input_list)\n",
    "target_tensor = np.array(output_list)\n",
    "input_tensor_train, input_tensor_val, target_tensor_train, target_tensor_val = train_test_split(input_tensor, target_tensor, test_size=0.2)"
   ]
  },
  {
   "cell_type": "code",
   "execution_count": 5,
   "id": "unsigned-purpose",
   "metadata": {},
   "outputs": [],
   "source": [
    "BUFFER_SIZE = len(input_tensor_train)\n",
    "BATCH_SIZE = 64\n",
    "steps_per_epoch = len(input_tensor_train)//BATCH_SIZE\n",
    "#embedding_dim = 256\n",
    "units = 1024\n",
    "\n",
    "\n",
    "dataset = tf.data.Dataset.from_tensor_slices((input_tensor_train, target_tensor_train)).shuffle(BUFFER_SIZE)\n",
    "dataset = dataset.batch(BATCH_SIZE, drop_remainder=True)"
   ]
  },
  {
   "cell_type": "code",
   "execution_count": 6,
   "id": "fabulous-words",
   "metadata": {},
   "outputs": [
    {
     "data": {
      "text/plain": [
       "(TensorShape([64, 10, 14]), TensorShape([64, 10]))"
      ]
     },
     "execution_count": 6,
     "metadata": {},
     "output_type": "execute_result"
    }
   ],
   "source": [
    "example_input_batch, example_target_batch = next(iter(dataset))\n",
    "example_input_batch.shape, example_target_batch.shape"
   ]
  },
  {
   "cell_type": "code",
   "execution_count": 7,
   "id": "spare-funeral",
   "metadata": {},
   "outputs": [],
   "source": [
    "class Encoder(tf.keras.Model):\n",
    "    def __init__(self, enc_units, batch_sz):\n",
    "        super(Encoder, self).__init__()\n",
    "        self.batch_sz = batch_sz\n",
    "        self.enc_units = enc_units\n",
    "        self.gru = tf.keras.layers.GRU(self.enc_units,\n",
    "                                       return_sequences=True,\n",
    "                                       return_state=True,\n",
    "                                       recurrent_initializer='glorot_uniform')\n",
    "\n",
    "    def call(self, x, hidden):\n",
    "        output, state = self.gru(x, initial_state = hidden)\n",
    "        return output, state\n",
    "\n",
    "    def initialize_hidden_state(self):\n",
    "        return tf.zeros((self.batch_sz, self.enc_units))"
   ]
  },
  {
   "cell_type": "code",
   "execution_count": 8,
   "id": "right-leave",
   "metadata": {},
   "outputs": [
    {
     "name": "stdout",
     "output_type": "stream",
     "text": [
      "Encoder output shape: (batch size, sequence length, units) (64, 10, 1024)\n",
      "Encoder Hidden state shape: (batch size, units) (64, 1024)\n"
     ]
    }
   ],
   "source": [
    "encoder = Encoder(units, BATCH_SIZE)\n",
    "\n",
    "# sample input\n",
    "sample_hidden = encoder.initialize_hidden_state()\n",
    "sample_output, sample_hidden = encoder(example_input_batch, sample_hidden)\n",
    "print ('Encoder output shape: (batch size, sequence length, units) {}'.format(sample_output.shape))\n",
    "print ('Encoder Hidden state shape: (batch size, units) {}'.format(sample_hidden.shape))"
   ]
  },
  {
   "cell_type": "code",
   "execution_count": 9,
   "id": "killing-possibility",
   "metadata": {},
   "outputs": [],
   "source": [
    "class BahdanauAttention(tf.keras.layers.Layer):\n",
    "    def __init__(self, units):\n",
    "        super(BahdanauAttention, self).__init__()\n",
    "        self.W1 = tf.keras.layers.Dense(units)\n",
    "        self.W2 = tf.keras.layers.Dense(units)\n",
    "        self.V = tf.keras.layers.Dense(1)\n",
    "\n",
    "    def call(self, query, values):\n",
    "        # query hidden state shape == (batch_size, hidden size)\n",
    "        # query_with_time_axis shape == (batch_size, 1, hidden size)\n",
    "        # values shape == (batch_size, max_len, hidden size)\n",
    "        # we are doing this to broadcast addition along the time axis to calculate the score\n",
    "        query_with_time_axis = tf.expand_dims(query, 1)\n",
    "\n",
    "        # score shape == (batch_size, max_length, 1)\n",
    "        # we get 1 at the last axis because we are applying score to self.V\n",
    "        # the shape of the tensor before applying self.V is (batch_size, max_length, units)\n",
    "        score = self.V(tf.nn.tanh(\n",
    "            self.W1(query_with_time_axis) + self.W2(values)))\n",
    "\n",
    "        # attention_weights shape == (batch_size, max_length, 1)\n",
    "        attention_weights = tf.nn.softmax(score, axis=1)\n",
    "\n",
    "        # context_vector shape after sum == (batch_size, hidden_size)\n",
    "        context_vector = attention_weights * values\n",
    "        context_vector = tf.reduce_sum(context_vector, axis=1)\n",
    "\n",
    "        return context_vector, attention_weights"
   ]
  },
  {
   "cell_type": "code",
   "execution_count": 10,
   "id": "competitive-columbia",
   "metadata": {},
   "outputs": [
    {
     "name": "stdout",
     "output_type": "stream",
     "text": [
      "Attention result shape: (batch size, units) (64, 1024)\n",
      "Attention weights shape: (batch_size, sequence_length, 1) (64, 10, 1)\n"
     ]
    }
   ],
   "source": [
    "attention_layer = BahdanauAttention(16)\n",
    "attention_result, attention_weights = attention_layer(sample_hidden, sample_output)\n",
    "\n",
    "print(\"Attention result shape: (batch size, units) {}\".format(attention_result.shape))\n",
    "print(\"Attention weights shape: (batch_size, sequence_length, 1) {}\".format(attention_weights.shape))"
   ]
  },
  {
   "cell_type": "code",
   "execution_count": 11,
   "id": "provincial-reasoning",
   "metadata": {},
   "outputs": [],
   "source": [
    "class Decoder(tf.keras.Model):\n",
    "    def __init__(self, dec_units, batch_sz, T):\n",
    "        super(Decoder, self).__init__()\n",
    "        self.batch_sz = batch_sz\n",
    "        self.dec_units = dec_units\n",
    "        self.gru = tf.keras.layers.GRU(self.dec_units,\n",
    "                                       return_sequences=True,\n",
    "                                       return_state=True,\n",
    "                                       recurrent_initializer='glorot_uniform')\n",
    "        self.fc = tf.keras.layers.Dense(T, activation='relu')\n",
    "\n",
    "        # used for attention\n",
    "        self.attention = BahdanauAttention(self.dec_units)\n",
    "\n",
    "    def call(self, x, hidden, enc_output):\n",
    "        # enc_output shape == (batch_size, max_length, hidden_size)\n",
    "        context_vector, attention_weights = self.attention(hidden, enc_output)\n",
    "\n",
    "        # x shape after passing through embedding == (batch_size, 1, embedding_dim)\n",
    "        #print('en decoder',context_vector.shape, x.shape)\n",
    "\n",
    "        # x shape after concatenation == (batch_size, 1, embedding_dim + hidden_size)\n",
    "        x = tf.concat([context_vector, x], axis=-1)\n",
    "        x = tf.expand_dims(x,1)\n",
    "        # passing the concatenated vector to the GRU\n",
    "        output, state = self.gru(x)\n",
    "        # output shape == (batch_size * 1, hidden_size)\n",
    "        output = tf.reshape(output, (-1, output.shape[2]))\n",
    "        \n",
    "        # output shape == (batch_size, vocab)\n",
    "        x = self.fc(output)\n",
    "\n",
    "        return x, state, attention_weights"
   ]
  },
  {
   "cell_type": "code",
   "execution_count": 12,
   "id": "mounted-blame",
   "metadata": {},
   "outputs": [
    {
     "name": "stdout",
     "output_type": "stream",
     "text": [
      "Decoder output shape: (batch_size, vocab size) (64, 10)\n"
     ]
    }
   ],
   "source": [
    "decoder = Decoder(units, BATCH_SIZE, T)\n",
    "\n",
    "sample_decoder_output, _, _ = decoder(tf.random.uniform((BATCH_SIZE,1)),\n",
    "                                      sample_hidden, sample_output)\n",
    "\n",
    "print ('Decoder output shape: (batch_size, vocab size) {}'.format(sample_decoder_output.shape))"
   ]
  },
  {
   "cell_type": "code",
   "execution_count": 13,
   "id": "variable-toner",
   "metadata": {},
   "outputs": [],
   "source": [
    "optimizer = tf.keras.optimizers.Adam()\n",
    "#loss_object = tf.keras.losses.SparseCategoricalCrossentropy(\n",
    "#    from_logits=True, reduction='none')\n",
    "\n",
    "loss_object = tf.keras.losses.MeanSquaredError(reduction=\"auto\", name=\"mean_squared_error\")\n",
    "\n",
    "\n",
    "def loss_function(real, pred):\n",
    "    real = tf.expand_dims(real,1)\n",
    "    \n",
    "    mask = tf.math.logical_not(tf.math.equal(real, 0))\n",
    "    loss_ = loss_object(real, pred)\n",
    "\n",
    "    mask = tf.cast(mask, dtype=loss_.dtype)\n",
    "    loss_ *= mask\n",
    "\n",
    "    return tf.reduce_mean(loss_)"
   ]
  },
  {
   "cell_type": "code",
   "execution_count": 14,
   "id": "single-oklahoma",
   "metadata": {},
   "outputs": [],
   "source": [
    "checkpoint_dir = './training_checkpoints'\n",
    "checkpoint_prefix = os.path.join(checkpoint_dir, \"ckpt\")\n",
    "checkpoint = tf.train.Checkpoint(optimizer=optimizer,\n",
    "                                 encoder=encoder,\n",
    "                                 decoder=decoder)"
   ]
  },
  {
   "cell_type": "code",
   "execution_count": 15,
   "id": "strange-breed",
   "metadata": {},
   "outputs": [],
   "source": [
    "@tf.function\n",
    "def train_step(inp, targ, enc_hidden):\n",
    "    loss = 0\n",
    "\n",
    "    with tf.GradientTape() as tape:\n",
    "        enc_output, enc_hidden = encoder(inp, enc_hidden)\n",
    "        dec_hidden = enc_hidden\n",
    "        \n",
    "        #dec_input = tf.expand_dims([1.0] * BATCH_SIZE, 1,18)\n",
    "        dec_input = tf.ones((64,1))\n",
    "        # Teacher forcing - feeding the target as the next input\n",
    "        \n",
    "        for t in range(1, targ.shape[1]):\n",
    "            # passing enc_output to the decoder\n",
    "            predictions, dec_hidden, _ = decoder(dec_input, dec_hidden, enc_output)\n",
    "            \n",
    "            \n",
    "            \n",
    "            loss += loss_function(targ[:, t], predictions)\n",
    "            #print('target,futuro dec_inmput',targ[:, t].shape)\n",
    "            # using teacher forcing\n",
    "            dec_input = tf.expand_dims(targ[:, t], 1)\n",
    "            \n",
    "    batch_loss = (loss / int(targ.shape[1]))\n",
    "\n",
    "    variables = encoder.trainable_variables + decoder.trainable_variables\n",
    "\n",
    "    gradients = tape.gradient(loss, variables)\n",
    "\n",
    "    optimizer.apply_gradients(zip(gradients, variables))\n",
    "\n",
    "    return batch_loss"
   ]
  },
  {
   "cell_type": "code",
   "execution_count": 16,
   "id": "imperial-density",
   "metadata": {},
   "outputs": [
    {
     "name": "stdout",
     "output_type": "stream",
     "text": [
      "Epoch 1 Batch 0 Loss 0.2908\n",
      "Epoch 1 Loss 0.0673\n",
      "Time taken for 1 epoch 86.77141618728638 sec\n",
      "\n",
      "Epoch 2 Batch 0 Loss 0.0473\n",
      "Epoch 2 Loss 0.0429\n",
      "Time taken for 1 epoch 74.94668102264404 sec\n",
      "\n",
      "Epoch 3 Batch 0 Loss 0.0394\n",
      "Epoch 3 Loss 0.0394\n",
      "Time taken for 1 epoch 77.29545593261719 sec\n",
      "\n",
      "Epoch 4 Batch 0 Loss 0.0383\n",
      "Epoch 4 Loss 0.0052\n",
      "Time taken for 1 epoch 74.40621542930603 sec\n",
      "\n",
      "Epoch 5 Batch 0 Loss 0.0021\n",
      "Epoch 5 Loss 0.0021\n",
      "Time taken for 1 epoch 74.9291820526123 sec\n",
      "\n",
      "Epoch 6 Batch 0 Loss 0.0021\n",
      "Epoch 6 Loss 0.0014\n",
      "Time taken for 1 epoch 77.29984474182129 sec\n",
      "\n",
      "Epoch 7 Batch 0 Loss 0.0016\n",
      "Epoch 7 Loss 0.0013\n",
      "Time taken for 1 epoch 79.85920071601868 sec\n",
      "\n",
      "Epoch 8 Batch 0 Loss 0.0011\n",
      "Epoch 8 Loss 0.0011\n",
      "Time taken for 1 epoch 75.18562269210815 sec\n",
      "\n",
      "Epoch 9 Batch 0 Loss 0.0009\n",
      "Epoch 9 Loss 0.0012\n",
      "Time taken for 1 epoch 74.17047190666199 sec\n",
      "\n",
      "Epoch 10 Batch 0 Loss 0.0011\n",
      "Epoch 10 Loss 0.0011\n",
      "Time taken for 1 epoch 75.68747520446777 sec\n",
      "\n",
      "Epoch 11 Batch 0 Loss 0.0009\n",
      "Epoch 11 Loss 0.0011\n",
      "Time taken for 1 epoch 78.05924701690674 sec\n",
      "\n",
      "Epoch 12 Batch 0 Loss 0.0010\n",
      "Epoch 12 Loss 0.0011\n",
      "Time taken for 1 epoch 82.81825351715088 sec\n",
      "\n",
      "Epoch 13 Batch 0 Loss 0.0009\n",
      "Epoch 13 Loss 0.0012\n",
      "Time taken for 1 epoch 79.48352789878845 sec\n",
      "\n",
      "Epoch 14 Batch 0 Loss 0.0009\n",
      "Epoch 14 Loss 0.0011\n",
      "Time taken for 1 epoch 74.60239768028259 sec\n",
      "\n",
      "Epoch 15 Batch 0 Loss 0.0008\n",
      "Epoch 15 Loss 0.0011\n",
      "Time taken for 1 epoch 75.70619130134583 sec\n",
      "\n",
      "Epoch 16 Batch 0 Loss 0.0012\n",
      "Epoch 16 Loss 0.0010\n",
      "Time taken for 1 epoch 79.76418089866638 sec\n",
      "\n",
      "Epoch 17 Batch 0 Loss 0.0009\n",
      "Epoch 17 Loss 0.0011\n",
      "Time taken for 1 epoch 78.96367239952087 sec\n",
      "\n",
      "Epoch 18 Batch 0 Loss 0.0012\n",
      "Epoch 18 Loss 0.0011\n",
      "Time taken for 1 epoch 81.8754870891571 sec\n",
      "\n",
      "Epoch 19 Batch 0 Loss 0.0010\n",
      "Epoch 19 Loss 0.0011\n",
      "Time taken for 1 epoch 84.53178238868713 sec\n",
      "\n",
      "Epoch 20 Batch 0 Loss 0.0011\n",
      "Epoch 20 Loss 0.0011\n",
      "Time taken for 1 epoch 82.87571597099304 sec\n",
      "\n"
     ]
    }
   ],
   "source": [
    "EPOCHS = 20\n",
    "\n",
    "for epoch in range(EPOCHS):\n",
    "    start = time.time()\n",
    "\n",
    "    enc_hidden = encoder.initialize_hidden_state()\n",
    "    total_loss = 0\n",
    "\n",
    "    for (batch, (inp, targ)) in enumerate(dataset.take(steps_per_epoch)):\n",
    "        batch_loss = train_step(inp, targ, enc_hidden)\n",
    "        total_loss += batch_loss\n",
    "\n",
    "        if batch % 100 == 0:\n",
    "            print('Epoch {} Batch {} Loss {:.4f}'.format(epoch + 1,\n",
    "                                                   batch,\n",
    "                                                   batch_loss.numpy()))\n",
    "    # saving (checkpoint) the model every 2 epochs\n",
    "    if (epoch + 1) % 2 == 0:\n",
    "        checkpoint.save(file_prefix = checkpoint_prefix)\n",
    "\n",
    "    print('Epoch {} Loss {:.4f}'.format(epoch + 1,\n",
    "                                  total_loss / steps_per_epoch))\n",
    "    print('Time taken for 1 epoch {} sec\\n'.format(time.time() - start))"
   ]
  },
  {
   "cell_type": "code",
   "execution_count": 17,
   "id": "spare-ancient",
   "metadata": {},
   "outputs": [
    {
     "data": {
      "text/plain": [
       "<tensorflow.python.training.tracking.util.CheckpointLoadStatus at 0x7f331a2e0400>"
      ]
     },
     "execution_count": 17,
     "metadata": {},
     "output_type": "execute_result"
    }
   ],
   "source": [
    "checkpoint.restore(tf.train.latest_checkpoint(checkpoint_dir))"
   ]
  },
  {
   "cell_type": "code",
   "execution_count": 18,
   "id": "incredible-ranch",
   "metadata": {},
   "outputs": [
    {
     "data": {
      "image/png": "[encoded data removed]",
      "text/plain": [
       "<Figure size 720x576 with 1 Axes>"
      ]
     },
     "metadata": {
      "needs_background": "light"
     },
     "output_type": "display_data"
    }
   ],
   "source": [
    "plt.figure(figsize=(10,8))\n",
    "predicciones = []\n",
    "plt.plot(closes)\n",
    "for i in range(1,input_tensor.shape[0]):\n",
    "    inputs = tf.convert_to_tensor(input_tensor[i-1:i])\n",
    "\n",
    "    hidden = [tf.zeros((1, units))]\n",
    "    enc_out, enc_hidden = encoder(inputs, hidden)\n",
    "\n",
    "    dec_hidden = enc_hidden\n",
    "    dec_input = tf.expand_dims([1.0], 1)\n",
    "    \n",
    "\n",
    "    predictions, dec_hidden, attention_weights = decoder(dec_input,dec_hidden,enc_out)\n",
    "    predicciones.append(np.array(predictions).mean())\n",
    "plt.plot(predicciones, c='r')\n",
    "plt.grid()\n",
    "plt.show()"
   ]
  },
  {
   "cell_type": "code",
   "execution_count": 20,
   "id": "stable-literacy",
   "metadata": {},
   "outputs": [
    {
     "data": {
      "image/png": "[encoded data removed]",
      "text/plain": [
       "<Figure size 720x576 with 1 Axes>"
      ]
     },
     "metadata": {
      "needs_background": "light"
     },
     "output_type": "display_data"
    }
   ],
   "source": [
    "plt.figure(figsize=(10,8))\n",
    "\n",
    "inputs = tf.convert_to_tensor(input_tensor[-1:])\n",
    "\n",
    "hidden = [tf.zeros((1, units))]\n",
    "enc_out, enc_hidden = encoder(inputs, hidden)\n",
    "\n",
    "dec_hidden = enc_hidden\n",
    "dec_input = tf.expand_dims([1.0], 1)\n",
    "\n",
    "\n",
    "predictions, dec_hidden, attention_weights = decoder(dec_input,dec_hidden,enc_out)\n",
    "plt.plot(closes[-6:])\n",
    "plt.plot(np.array(predictions)[0], c='r')\n",
    "plt.grid()\n",
    "plt.show()"
   ]
  },
  {
   "cell_type": "code",
   "execution_count": null,
   "id": "lyric-assignment",
   "metadata": {},
   "outputs": [],
   "source": []
  }
 ],
 "metadata": {
  "kernelspec": {
   "display_name": "Python 3",
   "language": "python",
   "name": "python3"
  },
  "language_info": {
   "codemirror_mode": {
    "name": "ipython",
    "version": 3
   },
   "file_extension": ".py",
   "mimetype": "text/x-python",
   "name": "python",
   "nbconvert_exporter": "python",
   "pygments_lexer": "ipython3",
   "version": "3.7.3"
  }
 },
 "nbformat": 4,
 "nbformat_minor": 5
}
